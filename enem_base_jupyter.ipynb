{
 "cells": [
  {
   "cell_type": "markdown",
   "metadata": {
    "scrolled": true
   },
   "source": [
    "Análise do perfil dos candidatos do enem"
   ]
  },
  {
   "cell_type": "markdown",
   "metadata": {},
   "source": [
    "Importando as Bibliotecas"
   ]
  },
  {
   "cell_type": "code",
   "execution_count": 6,
   "metadata": {},
   "outputs": [],
   "source": [
    "import pandas as pd\n",
    "import numpy as np\n",
    "import matplotlib.pyplot as plt\n",
    "import seaborn as sns"
   ]
  },
  {
   "cell_type": "markdown",
   "metadata": {},
   "source": [
    "Abrindo dataset"
   ]
  },
  {
   "cell_type": "code",
   "execution_count": 7,
   "metadata": {},
   "outputs": [],
   "source": [
    "lista_colunas_selecionadas = ['TP_COR_RACA', 'SG_UF_RESIDENCIA', 'TP_ESCOLA', 'Q002', 'Q006', 'NU_NOTA_REDACAO', 'NU_NOTA_CN', 'NU_NOTA_CH', 'NU_NOTA_LC',\n",
    "       'NU_NOTA_MT']\n",
    "\n",
    "\n",
    "df = pd.read_csv(r\"C:\\Users\\guilh\\Projetos\\BigData - Treinamento Semantix\\Projeto_semantix_ENEM2019\\enem_dados\\microdados_enem_2019\\DADOS\\MICRODADOS_ENEM_2019.csv\", sep = ';', encoding = 'latin-1', usecols = lista_colunas_selecionadas)"
   ]
  },
  {
   "cell_type": "code",
   "execution_count": 95,
   "metadata": {},
   "outputs": [],
   "source": [
    "dic_renda_media = {\n",
    "'A':'Nenhuma renda.',\n",
    "'B':'Até R$ 998,00.',\n",
    "'C':'De R$ 998,01 até R$ 1.497,00.',\n",
    "'D':'De R$ 1.497,01 até R$ 1.996,00.',\n",
    "'E':'De R$ 1.996,01 até R$ 2.495,00.',\n",
    "'F':'De R$ 2.495,01 até R$ 2.994,00.',\n",
    "'G':'De R$ 2.994,01 até R$ 3.992,00.',\n",
    "'H':'De R$ 3.992,01 até R$ 4.990,00.',\n",
    "'I':'De R$ 4.990,01 até R$ 5.988,00.',\n",
    "'J':'De R$ 5.988,01 até R$ 6.986,00.',\n",
    "'K':'De R$ 6.986,01 até R$ 7.984,00.',\n",
    "'L':'De R$ 7.984,01 até R$ 8.982,00.',\n",
    "'M':'De R$ 8.982,01 até R$ 9.980,00.',\n",
    "'N':'De R$ 9.980,01 até R$ 11.976,00.',\n",
    "'O':'De R$ 11.976,01 até R$ 14.970,00.',\n",
    "'P':'De R$ 14.970,01 até R$ 19.960,00.',\n",
    "'Q':'Mais de R$ 19.960,00.'\n",
    "}\n",
    "\n",
    "dic_tp_escola_media = {1: 'Não Respondeu',\n",
    "                       2: 'Pública',\n",
    "                       3: 'Privada'    \n",
    "                        }\n",
    "\n",
    "dic_cor_raca = {\n",
    "    0:'Não declarado',\n",
    "    1:'Branca',\n",
    "    2:'Preta',\n",
    "    3:'Parda',\n",
    "    4: 'Amarela',\n",
    "    5:'Indígena'\n",
    "}\n"
   ]
  },
  {
   "cell_type": "markdown",
   "metadata": {},
   "source": [
    "Nome das colunas:"
   ]
  },
  {
   "cell_type": "code",
   "execution_count": 9,
   "metadata": {},
   "outputs": [
    {
     "data": {
      "text/plain": [
       "array(['SG_UF_RESIDENCIA', 'TP_COR_RACA', 'TP_ESCOLA', 'NU_NOTA_CN',\n",
       "       'NU_NOTA_CH', 'NU_NOTA_LC', 'NU_NOTA_MT', 'NU_NOTA_REDACAO',\n",
       "       'Q002', 'Q006'], dtype=object)"
      ]
     },
     "execution_count": 9,
     "metadata": {},
     "output_type": "execute_result"
    }
   ],
   "source": [
    "df.columns.values"
   ]
  },
  {
   "cell_type": "markdown",
   "metadata": {},
   "source": [
    "Excluindo variáveis nulas:"
   ]
  },
  {
   "cell_type": "code",
   "execution_count": 11,
   "metadata": {
    "scrolled": false
   },
   "outputs": [
    {
     "name": "stdout",
     "output_type": "stream",
     "text": [
      "Quantidade de variáveis excluídas: 1393263\n",
      "Porcentagem de variáveis excluídas: 27.34%\n"
     ]
    }
   ],
   "source": [
    "df_selecionada_sem_nulos = df.dropna(axis=0)\n",
    "print('Quantidade de variáveis excluídas: {}'.format(len(df) - len(df_selecionada_sem_nulos)))\n",
    "print('Porcentagem de variáveis excluídas: {:.2f}%'.format((len(df)-len(df_selecionada_sem_nulos))/len(df)*100))"
   ]
  },
  {
   "cell_type": "markdown",
   "metadata": {},
   "source": [
    "Podemos comparar as notas obtidas com certas variáveis"
   ]
  },
  {
   "cell_type": "code",
   "execution_count": 20,
   "metadata": {},
   "outputs": [],
   "source": [
    "df_renda_media = df_selecionada_sem_nulos.filter(['Q006', 'NU_NOTA_REDACAO', 'NU_NOTA_CN', 'NU_NOTA_CH', 'NU_NOTA_LC',\n",
    "       'NU_NOTA_MT']).groupby('Q006').mean() # renda mensal familiar\n",
    "df_cor_raca_media = df_selecionada_sem_nulos.filter(['TP_COR_RACA', 'NU_NOTA_REDACAO', 'NU_NOTA_CN', 'NU_NOTA_CH', 'NU_NOTA_LC',\n",
    "       'NU_NOTA_MT']).groupby('TP_COR_RACA').mean()\n",
    "df_tp_escola_media = df_selecionada_sem_nulos.filter(['TP_ESCOLA', 'NU_NOTA_REDACAO', 'NU_NOTA_CN', 'NU_NOTA_CH', 'NU_NOTA_LC',\n",
    "       'NU_NOTA_MT']).groupby('TP_ESCOLA').mean()"
   ]
  },
  {
   "cell_type": "code",
   "execution_count": 103,
   "metadata": {},
   "outputs": [],
   "source": [
    "df_raca_cor_count = df_selecionada_sem_nulos.filter(['TP_COR_RACA', 'NU_NOTA_REDACAO']).groupby('TP_COR_RACA').count()"
   ]
  },
  {
   "cell_type": "code",
   "execution_count": 104,
   "metadata": {},
   "outputs": [
    {
     "data": {
      "text/html": [
       "<div>\n",
       "<style scoped>\n",
       "    .dataframe tbody tr th:only-of-type {\n",
       "        vertical-align: middle;\n",
       "    }\n",
       "\n",
       "    .dataframe tbody tr th {\n",
       "        vertical-align: top;\n",
       "    }\n",
       "\n",
       "    .dataframe thead th {\n",
       "        text-align: right;\n",
       "    }\n",
       "</style>\n",
       "<table border=\"1\" class=\"dataframe\">\n",
       "  <thead>\n",
       "    <tr style=\"text-align: right;\">\n",
       "      <th></th>\n",
       "      <th>NU_NOTA_REDACAO</th>\n",
       "    </tr>\n",
       "    <tr>\n",
       "      <th>TP_COR_RACA</th>\n",
       "      <th></th>\n",
       "    </tr>\n",
       "  </thead>\n",
       "  <tbody>\n",
       "    <tr>\n",
       "      <th>0</th>\n",
       "      <td>73435</td>\n",
       "    </tr>\n",
       "    <tr>\n",
       "      <th>1</th>\n",
       "      <td>1374909</td>\n",
       "    </tr>\n",
       "    <tr>\n",
       "      <th>2</th>\n",
       "      <td>453223</td>\n",
       "    </tr>\n",
       "    <tr>\n",
       "      <th>3</th>\n",
       "      <td>1694162</td>\n",
       "    </tr>\n",
       "    <tr>\n",
       "      <th>4</th>\n",
       "      <td>84755</td>\n",
       "    </tr>\n",
       "    <tr>\n",
       "      <th>5</th>\n",
       "      <td>21523</td>\n",
       "    </tr>\n",
       "  </tbody>\n",
       "</table>\n",
       "</div>"
      ],
      "text/plain": [
       "             NU_NOTA_REDACAO\n",
       "TP_COR_RACA                 \n",
       "0                      73435\n",
       "1                    1374909\n",
       "2                     453223\n",
       "3                    1694162\n",
       "4                      84755\n",
       "5                      21523"
      ]
     },
     "execution_count": 104,
     "metadata": {},
     "output_type": "execute_result"
    }
   ],
   "source": [
    "df_raca_cor_count"
   ]
  },
  {
   "cell_type": "code",
   "execution_count": 114,
   "metadata": {
    "scrolled": true
   },
   "outputs": [],
   "source": [
    "df_tipo_escola_count = df_selecionada_sem_nulos.filter(['TP_ESCOLA', 'NU_NOTA_REDACAO']).groupby('TP_ESCOLA').count()\n"
   ]
  },
  {
   "cell_type": "code",
   "execution_count": 119,
   "metadata": {},
   "outputs": [
    {
     "data": {
      "text/html": [
       "<div>\n",
       "<style scoped>\n",
       "    .dataframe tbody tr th:only-of-type {\n",
       "        vertical-align: middle;\n",
       "    }\n",
       "\n",
       "    .dataframe tbody tr th {\n",
       "        vertical-align: top;\n",
       "    }\n",
       "\n",
       "    .dataframe thead th {\n",
       "        text-align: right;\n",
       "    }\n",
       "</style>\n",
       "<table border=\"1\" class=\"dataframe\">\n",
       "  <thead>\n",
       "    <tr style=\"text-align: right;\">\n",
       "      <th></th>\n",
       "      <th>NU_NOTA_REDACAO</th>\n",
       "    </tr>\n",
       "    <tr>\n",
       "      <th>TP_ESCOLA</th>\n",
       "      <th></th>\n",
       "    </tr>\n",
       "  </thead>\n",
       "  <tbody>\n",
       "    <tr>\n",
       "      <th>1</th>\n",
       "      <td>67.121780</td>\n",
       "    </tr>\n",
       "    <tr>\n",
       "      <th>2</th>\n",
       "      <td>27.278501</td>\n",
       "    </tr>\n",
       "    <tr>\n",
       "      <th>3</th>\n",
       "      <td>5.599719</td>\n",
       "    </tr>\n",
       "  </tbody>\n",
       "</table>\n",
       "</div>"
      ],
      "text/plain": [
       "           NU_NOTA_REDACAO\n",
       "TP_ESCOLA                 \n",
       "1                67.121780\n",
       "2                27.278501\n",
       "3                 5.599719"
      ]
     },
     "execution_count": 119,
     "metadata": {},
     "output_type": "execute_result"
    }
   ],
   "source": [
    "df_tipo_escola_count/len(df_selecionada_sem_nulos)*100"
   ]
  },
  {
   "cell_type": "code",
   "execution_count": 45,
   "metadata": {},
   "outputs": [],
   "source": [
    "df_media_redacao_raca_escola = df_selecionada_sem_nulos.groupby(['TP_COR_RACA', 'TP_ESCOLA']).agg({'NU_NOTA_REDACAO': \"mean\"})"
   ]
  },
  {
   "cell_type": "code",
   "execution_count": 52,
   "metadata": {},
   "outputs": [
    {
     "data": {
      "text/html": [
       "<div>\n",
       "<style scoped>\n",
       "    .dataframe tbody tr th:only-of-type {\n",
       "        vertical-align: middle;\n",
       "    }\n",
       "\n",
       "    .dataframe tbody tr th {\n",
       "        vertical-align: top;\n",
       "    }\n",
       "\n",
       "    .dataframe thead th {\n",
       "        text-align: right;\n",
       "    }\n",
       "</style>\n",
       "<table border=\"1\" class=\"dataframe\">\n",
       "  <thead>\n",
       "    <tr style=\"text-align: right;\">\n",
       "      <th></th>\n",
       "      <th></th>\n",
       "      <th>NU_NOTA_REDACAO</th>\n",
       "    </tr>\n",
       "    <tr>\n",
       "      <th>TP_COR_RACA</th>\n",
       "      <th>TP_ESCOLA</th>\n",
       "      <th></th>\n",
       "    </tr>\n",
       "  </thead>\n",
       "  <tbody>\n",
       "    <tr>\n",
       "      <th rowspan=\"3\" valign=\"top\">0</th>\n",
       "      <th>1</th>\n",
       "      <td>585.380080</td>\n",
       "    </tr>\n",
       "    <tr>\n",
       "      <th>2</th>\n",
       "      <td>524.656305</td>\n",
       "    </tr>\n",
       "    <tr>\n",
       "      <th>3</th>\n",
       "      <td>725.087910</td>\n",
       "    </tr>\n",
       "    <tr>\n",
       "      <th rowspan=\"3\" valign=\"top\">1</th>\n",
       "      <th>1</th>\n",
       "      <td>611.862050</td>\n",
       "    </tr>\n",
       "    <tr>\n",
       "      <th>2</th>\n",
       "      <td>581.839974</td>\n",
       "    </tr>\n",
       "    <tr>\n",
       "      <th>3</th>\n",
       "      <td>732.653794</td>\n",
       "    </tr>\n",
       "    <tr>\n",
       "      <th rowspan=\"3\" valign=\"top\">2</th>\n",
       "      <th>1</th>\n",
       "      <td>550.190144</td>\n",
       "    </tr>\n",
       "    <tr>\n",
       "      <th>2</th>\n",
       "      <td>539.257185</td>\n",
       "    </tr>\n",
       "    <tr>\n",
       "      <th>3</th>\n",
       "      <td>687.655613</td>\n",
       "    </tr>\n",
       "    <tr>\n",
       "      <th rowspan=\"3\" valign=\"top\">3</th>\n",
       "      <th>1</th>\n",
       "      <td>560.218131</td>\n",
       "    </tr>\n",
       "    <tr>\n",
       "      <th>2</th>\n",
       "      <td>540.938697</td>\n",
       "    </tr>\n",
       "    <tr>\n",
       "      <th>3</th>\n",
       "      <td>714.181166</td>\n",
       "    </tr>\n",
       "    <tr>\n",
       "      <th rowspan=\"3\" valign=\"top\">4</th>\n",
       "      <th>1</th>\n",
       "      <td>574.310142</td>\n",
       "    </tr>\n",
       "    <tr>\n",
       "      <th>2</th>\n",
       "      <td>550.583651</td>\n",
       "    </tr>\n",
       "    <tr>\n",
       "      <th>3</th>\n",
       "      <td>726.579213</td>\n",
       "    </tr>\n",
       "    <tr>\n",
       "      <th rowspan=\"3\" valign=\"top\">5</th>\n",
       "      <th>1</th>\n",
       "      <td>496.272239</td>\n",
       "    </tr>\n",
       "    <tr>\n",
       "      <th>2</th>\n",
       "      <td>497.766892</td>\n",
       "    </tr>\n",
       "    <tr>\n",
       "      <th>3</th>\n",
       "      <td>648.851675</td>\n",
       "    </tr>\n",
       "  </tbody>\n",
       "</table>\n",
       "</div>"
      ],
      "text/plain": [
       "                       NU_NOTA_REDACAO\n",
       "TP_COR_RACA TP_ESCOLA                 \n",
       "0           1               585.380080\n",
       "            2               524.656305\n",
       "            3               725.087910\n",
       "1           1               611.862050\n",
       "            2               581.839974\n",
       "            3               732.653794\n",
       "2           1               550.190144\n",
       "            2               539.257185\n",
       "            3               687.655613\n",
       "3           1               560.218131\n",
       "            2               540.938697\n",
       "            3               714.181166\n",
       "4           1               574.310142\n",
       "            2               550.583651\n",
       "            3               726.579213\n",
       "5           1               496.272239\n",
       "            2               497.766892\n",
       "            3               648.851675"
      ]
     },
     "execution_count": 52,
     "metadata": {},
     "output_type": "execute_result"
    }
   ],
   "source": [
    "df_media_redacao_raca_escola"
   ]
  },
  {
   "cell_type": "markdown",
   "metadata": {},
   "source": [
    "Nota-se que alunos de escola particular geralmente têm melhor desempenho do que alunos de escola pública, para todos os recortes sociais. Mas é importante salientar que o acesso a educação particular é extremamente limitado no país, podemos observar isso estratificando a quantidade de participantes do Enem por raça e agrupando por tipo de escola:"
   ]
  },
  {
   "cell_type": "code",
   "execution_count": 96,
   "metadata": {
    "scrolled": true
   },
   "outputs": [
    {
     "name": "stderr",
     "output_type": "stream",
     "text": [
      "C:\\Users\\guilh\\anaconda3\\lib\\site-packages\\seaborn\\_decorators.py:36: FutureWarning: Pass the following variable as a keyword arg: x. From version 0.12, the only valid positional argument will be `data`, and passing other arguments without an explicit keyword will result in an error or misinterpretation.\n",
      "  warnings.warn(\n"
     ]
    },
    {
     "data": {
      "image/png": "[encoded data removed]",
      "text/plain": [
       "<Figure size 432x288 with 1 Axes>"
      ]
     },
     "metadata": {
      "needs_background": "light"
     },
     "output_type": "display_data"
    }
   ],
   "source": [
    "ax = sns.countplot(df_selecionada_sem_nulos['TP_ESCOLA'], hue = df_selecionada_sem_nulos['TP_COR_RACA'])\n",
    "ax.set_xticklabels(dic_tp_escola_media.values())\n",
    "ax.set_ylabel('Número de candidatos')\n",
    "ax.set_xlabel('Tipo de escola')\n",
    "plt.legend(title='Cor/Raça', loc='upper right', labels=dic_cor_raca.values())\n",
    "plt.show()"
   ]
  },
  {
   "cell_type": "markdown",
   "metadata": {},
   "source": [
    "Apesar da maioria dos participantes serem de escola pública, as maiores notas são de escolas privadas:"
   ]
  },
  {
   "cell_type": "code",
   "execution_count": 121,
   "metadata": {},
   "outputs": [
    {
     "data": {
      "image/png": "[encoded data removed]",
      "text/plain": [
       "<Figure size 432x288 with 1 Axes>"
      ]
     },
     "metadata": {
      "needs_background": "light"
     },
     "output_type": "display_data"
    }
   ],
   "source": [
    "ax = sns.boxplot(x = df_selecionada_sem_nulos['TP_ESCOLA'], y = df_selecionada_sem_nulos['NU_NOTA_REDACAO'], hue = df_selecionada_sem_nulos['TP_COR_RACA'])\n",
    "ax.set_xticklabels(dic_tp_escola_media.values())\n",
    "ax.set_ylabel('Nota da redação')\n",
    "ax.set_xlabel('Tipo de escola')\n",
    "ax.legend(title='Cor/Raça', loc=[1,0.5])\n",
    "plt.show()"
   ]
  },
  {
   "cell_type": "markdown",
   "metadata": {},
   "source": [
    "Observa-se uma maior diferença entre o tipo de escola do que a cor do participante, pois dentro do mesmo grupo escolar a diferença de nota é reduzida entre os participantes, com uma leve vantagem da população branca sobre os outros grupos, e a população indígena possuindo maior desvantagem. Mas, o acesso a escolas privadas não é o mesmo para toda a população, conforme observado no gráfico countplot, onde a população preta era a maioria dos portipantes de escolas públicas, enquanto a população branca era a maioria em escolas privadas. Isso pode ser explicado por um recorte por renda média mensal de cada grupo social. "
   ]
  },
  {
   "cell_type": "markdown",
   "metadata": {},
   "source": [
    "Vamos analisar o recorte de cor pela renda mensal das famílias participantes do Enem 2019:"
   ]
  },
  {
   "cell_type": "code",
   "execution_count": 24,
   "metadata": {},
   "outputs": [],
   "source": [
    "df_cor_raca = df_selecionada_sem_nulos.filter(['TP_COR_RACA', 'Q006', 'SG_UF_RESIDENCIA', 'NU_NOTA_REDACAO', 'NU_NOTA_CN', 'NU_NOTA_CH', 'NU_NOTA_LC',\n",
    "       'NU_NOTA_MT'])"
   ]
  },
  {
   "cell_type": "code",
   "execution_count": 25,
   "metadata": {
    "scrolled": true
   },
   "outputs": [],
   "source": [
    "df_pop_branca = df_cor_raca[df_cor_raca.TP_COR_RACA.eq(1)]\n",
    "df_pop_branca_qtde_renda = df_pop_branca.filter(['NU_NOTA_REDACAO','Q006', 'NU_NOTA_CN', 'NU_NOTA_CH', 'NU_NOTA_LC',\n",
    "       'NU_NOTA_MT']).groupby(['Q006']).count().filter(['NU_NOTA_REDACAO']).rename(columns = {'NU_NOTA_REDACAO': 'Nº DE PARTICIPANTES POR FAIXA DE RENDA'} , inplace = False)\n",
    "df_pop_branca_total = df_pop_branca_qtde_renda['Nº DE PARTICIPANTES POR FAIXA DE RENDA'].sum()\n",
    "df_pop_branca_qtde_renda['PORCENTAGEM (%)'] = df_pop_branca_qtde_renda.iloc[:, 0].values/df_pop_branca_total*100\n",
    "#plt.bar(df_pop_branca_qtde_renda.index, df_pop_branca_qtde_renda['PORCENTAGEM (%)'])"
   ]
  },
  {
   "cell_type": "code",
   "execution_count": 26,
   "metadata": {},
   "outputs": [],
   "source": [
    "df_pop_parda = df_cor_raca[df_cor_raca.TP_COR_RACA.eq(2)]\n",
    "df_pop_parda_qtde_renda = df_pop_parda.filter(['NU_NOTA_REDACAO','Q006', 'NU_NOTA_CN', 'NU_NOTA_CH', 'NU_NOTA_LC',\n",
    "       'NU_NOTA_MT']).groupby(['Q006']).count().filter(['NU_NOTA_REDACAO']).rename(columns = {'NU_NOTA_REDACAO': 'Nº DE PARTICIPANTES POR FAIXA DE RENDA'} , inplace = False)\n",
    "df_pop_parda_total = df_pop_parda_qtde_renda['Nº DE PARTICIPANTES POR FAIXA DE RENDA'].sum()\n",
    "df_pop_parda_qtde_renda['PORCENTAGEM (%)'] = df_pop_parda_qtde_renda.iloc[:, 0].values/df_pop_parda_total*100\n",
    "#df_pop_parda_qtde_renda.round(2)\n",
    "#plt.bar(df_pop_parda_qtde_renda.index, df_pop_parda_qtde_renda['PORCENTAGEM (%)'])"
   ]
  },
  {
   "cell_type": "code",
   "execution_count": 27,
   "metadata": {},
   "outputs": [],
   "source": [
    "df_pop_preta = df_cor_raca[df_cor_raca.TP_COR_RACA.eq(3)]\n",
    "df_pop_preta_qtde_renda = df_pop_preta.filter(['NU_NOTA_REDACAO','Q006', 'NU_NOTA_CN', 'NU_NOTA_CH', 'NU_NOTA_LC',\n",
    "       'NU_NOTA_MT']).groupby(['Q006']).count().filter(['NU_NOTA_REDACAO']).rename(columns = {'NU_NOTA_REDACAO': 'Nº DE PARTICIPANTES POR FAIXA DE RENDA'} , inplace = False)\n",
    "df_pop_preta_total = df_pop_preta_qtde_renda['Nº DE PARTICIPANTES POR FAIXA DE RENDA'].sum()\n",
    "df_pop_preta_qtde_renda['PORCENTAGEM (%)'] = df_pop_preta_qtde_renda.iloc[:, 0].values/df_pop_preta_total*100\n",
    "#df_pop_preta_qtde_renda.round(2)\n",
    "#plt.bar(df_pop_preta_qtde_renda.index, df_pop_preta_qtde_renda['PORCENTAGEM (%)'])"
   ]
  },
  {
   "cell_type": "code",
   "execution_count": 28,
   "metadata": {},
   "outputs": [],
   "source": [
    "df_pop_amarela = df_cor_raca[df_cor_raca.TP_COR_RACA.eq(4)]\n",
    "df_pop_amarela_qtde_renda = df_pop_amarela.filter(['NU_NOTA_REDACAO','Q006', 'NU_NOTA_CN', 'NU_NOTA_CH', 'NU_NOTA_LC',\n",
    "       'NU_NOTA_MT']).groupby(['Q006']).count().filter(['NU_NOTA_REDACAO']).rename(columns = {'NU_NOTA_REDACAO': 'Nº DE PARTICIPANTES POR FAIXA DE RENDA'} , inplace = False)\n",
    "df_pop_amarela_total = df_pop_amarela_qtde_renda['Nº DE PARTICIPANTES POR FAIXA DE RENDA'].sum()\n",
    "df_pop_amarela_qtde_renda['PORCENTAGEM (%)'] = df_pop_amarela_qtde_renda.iloc[:, 0].values/df_pop_amarela_total*100\n",
    "#df_pop_amarela_qtde_renda.round(2)\n",
    "#plt.bar(df_pop_amarela_qtde_renda.index, df_pop_amarela_qtde_renda['PORCENTAGEM (%)'])"
   ]
  },
  {
   "cell_type": "code",
   "execution_count": 29,
   "metadata": {},
   "outputs": [],
   "source": [
    "df_pop_indigena = df_cor_raca[df_cor_raca.TP_COR_RACA.eq(5)]\n",
    "df_pop_indigena_qtde_renda = df_pop_indigena.filter(['NU_NOTA_REDACAO','Q006', 'NU_NOTA_CN', 'NU_NOTA_CH', 'NU_NOTA_LC',\n",
    "       'NU_NOTA_MT']).groupby(['Q006']).count().filter(['NU_NOTA_REDACAO']).rename(columns = {'NU_NOTA_REDACAO': 'Nº DE PARTICIPANTES POR FAIXA DE RENDA'} , inplace = False)\n",
    "df_pop_indigena_total = df_pop_indigena_qtde_renda['Nº DE PARTICIPANTES POR FAIXA DE RENDA'].sum()\n",
    "df_pop_indigena_qtde_renda['PORCENTAGEM (%)'] = df_pop_indigena_qtde_renda.iloc[:, 0].values/df_pop_indigena_total*100\n",
    "#df_pop_indigena_qtde_renda.round(2)\n",
    "#plt.bar(df_pop_indigena_qtde_renda.index, df_pop_indigena_qtde_renda['PORCENTAGEM (%)'])"
   ]
  },
  {
   "cell_type": "code",
   "execution_count": 128,
   "metadata": {
    "scrolled": true
   },
   "outputs": [
    {
     "data": {
      "image/png": "[encoded data removed]",
      "text/plain": [
       "<Figure size 864x504 with 5 Axes>"
      ]
     },
     "metadata": {
      "needs_background": "light"
     },
     "output_type": "display_data"
    }
   ],
   "source": [
    "fig1, axs1 = plt.subplots(3, 2, sharex = True, sharey = True , figsize = (12,7))\n",
    "axs1[0,0].set_ylabel('Proporção')\n",
    "axs1[0, 0].bar(df_pop_branca_qtde_renda.index, df_pop_branca_qtde_renda['PORCENTAGEM (%)'])\n",
    "axs1[0, 0].set_yticks([0, 35])\n",
    "axs1[0, 0].set_title('Brancos x renda')\n",
    "axs1[0, 1].bar(df_pop_parda_qtde_renda.index, df_pop_parda_qtde_renda['PORCENTAGEM (%)'])\n",
    "axs1[0, 1].set_title('Pardos x renda')\n",
    "axs1[1, 0].bar(df_pop_preta_qtde_renda.index, df_pop_preta_qtde_renda['PORCENTAGEM (%)'])\n",
    "axs1[1,0].set_ylabel('Proporção')\n",
    "axs1[1, 0].set_title('Pretos x renda')\n",
    "axs1[1, 1].bar(df_pop_amarela_qtde_renda.index, df_pop_amarela_qtde_renda['PORCENTAGEM (%)'])\n",
    "axs1[1, 1].set_title('Amarelos x renda')\n",
    "axs1[2, 0].bar(df_pop_indigena_qtde_renda.index, df_pop_indigena_qtde_renda['PORCENTAGEM (%)'])\n",
    "axs1[2,0].set_ylabel('Proporção')\n",
    "axs1[2, 0].set_title('Indigenas x renda')\n",
    "fig1.delaxes(axs1[2,1])"
   ]
  },
  {
   "cell_type": "markdown",
   "metadata": {},
   "source": [
    "A população branca possui, em média, maior renda que todos os outros grupos sociais participantes do Enem."
   ]
  },
  {
   "cell_type": "markdown",
   "metadata": {},
   "source": [
    "Com maiores condições financeiras para auxiliar no processo de educação dos estudantes, espera-se que a população branca consiga em média notas maiores do que os outras populações participantes do Enem:"
   ]
  },
  {
   "cell_type": "code",
   "execution_count": 31,
   "metadata": {},
   "outputs": [
    {
     "data": {
      "text/html": [
       "<div>\n",
       "<style scoped>\n",
       "    .dataframe tbody tr th:only-of-type {\n",
       "        vertical-align: middle;\n",
       "    }\n",
       "\n",
       "    .dataframe tbody tr th {\n",
       "        vertical-align: top;\n",
       "    }\n",
       "\n",
       "    .dataframe thead th {\n",
       "        text-align: right;\n",
       "    }\n",
       "</style>\n",
       "<table border=\"1\" class=\"dataframe\">\n",
       "  <thead>\n",
       "    <tr style=\"text-align: right;\">\n",
       "      <th></th>\n",
       "      <th>NU_NOTA_REDACAO</th>\n",
       "      <th>NU_NOTA_CN</th>\n",
       "      <th>NU_NOTA_CH</th>\n",
       "      <th>NU_NOTA_LC</th>\n",
       "      <th>NU_NOTA_MT</th>\n",
       "    </tr>\n",
       "    <tr>\n",
       "      <th>TP_COR_RACA</th>\n",
       "      <th></th>\n",
       "      <th></th>\n",
       "      <th></th>\n",
       "      <th></th>\n",
       "      <th></th>\n",
       "    </tr>\n",
       "  </thead>\n",
       "  <tbody>\n",
       "    <tr>\n",
       "      <th>0</th>\n",
       "      <td>576.641656</td>\n",
       "      <td>486.750044</td>\n",
       "      <td>518.643056</td>\n",
       "      <td>527.393251</td>\n",
       "      <td>533.208767</td>\n",
       "    </tr>\n",
       "    <tr>\n",
       "      <th>1</th>\n",
       "      <td>615.727092</td>\n",
       "      <td>499.356627</td>\n",
       "      <td>532.114560</td>\n",
       "      <td>540.313060</td>\n",
       "      <td>556.033125</td>\n",
       "    </tr>\n",
       "    <tr>\n",
       "      <th>2</th>\n",
       "      <td>550.604978</td>\n",
       "      <td>461.098293</td>\n",
       "      <td>495.095292</td>\n",
       "      <td>510.836500</td>\n",
       "      <td>493.848899</td>\n",
       "    </tr>\n",
       "    <tr>\n",
       "      <th>3</th>\n",
       "      <td>559.689971</td>\n",
       "      <td>465.014848</td>\n",
       "      <td>496.166209</td>\n",
       "      <td>511.277990</td>\n",
       "      <td>504.422063</td>\n",
       "    </tr>\n",
       "    <tr>\n",
       "      <th>4</th>\n",
       "      <td>576.818595</td>\n",
       "      <td>477.392672</td>\n",
       "      <td>505.150075</td>\n",
       "      <td>520.361655</td>\n",
       "      <td>525.601454</td>\n",
       "    </tr>\n",
       "    <tr>\n",
       "      <th>5</th>\n",
       "      <td>499.717511</td>\n",
       "      <td>444.201714</td>\n",
       "      <td>470.863198</td>\n",
       "      <td>487.460470</td>\n",
       "      <td>475.771904</td>\n",
       "    </tr>\n",
       "  </tbody>\n",
       "</table>\n",
       "</div>"
      ],
      "text/plain": [
       "             NU_NOTA_REDACAO  NU_NOTA_CN  NU_NOTA_CH  NU_NOTA_LC  NU_NOTA_MT\n",
       "TP_COR_RACA                                                                 \n",
       "0                 576.641656  486.750044  518.643056  527.393251  533.208767\n",
       "1                 615.727092  499.356627  532.114560  540.313060  556.033125\n",
       "2                 550.604978  461.098293  495.095292  510.836500  493.848899\n",
       "3                 559.689971  465.014848  496.166209  511.277990  504.422063\n",
       "4                 576.818595  477.392672  505.150075  520.361655  525.601454\n",
       "5                 499.717511  444.201714  470.863198  487.460470  475.771904"
      ]
     },
     "execution_count": 31,
     "metadata": {},
     "output_type": "execute_result"
    }
   ],
   "source": [
    "df_cor_raca_media"
   ]
  },
  {
   "cell_type": "code",
   "execution_count": 93,
   "metadata": {},
   "outputs": [
    {
     "data": {
      "image/png": "[encoded data removed]",
      "text/plain": [
       "<Figure size 1080x504 with 5 Axes>"
      ]
     },
     "metadata": {
      "needs_background": "light"
     },
     "output_type": "display_data"
    }
   ],
   "source": [
    "fig2, axes2 = plt.subplots(3, 2, figsize=(15,7))\n",
    "\n",
    "sns.boxplot(ax=axes2[0, 0], data=df_selecionada_sem_nulos, x='TP_COR_RACA', y='NU_NOTA_REDACAO')\n",
    "sns.boxplot(ax=axes2[0, 1], data=df_selecionada_sem_nulos, x='TP_COR_RACA', y='NU_NOTA_CN')\n",
    "sns.boxplot(ax=axes2[1, 0], data=df_selecionada_sem_nulos, x='TP_COR_RACA', y='NU_NOTA_CH')\n",
    "sns.boxplot(ax=axes2[1, 1], data=df_selecionada_sem_nulos, x='TP_COR_RACA', y='NU_NOTA_LC')\n",
    "sns.boxplot(ax=axes2[2, 0], data=df_selecionada_sem_nulos, x='TP_COR_RACA', y='NU_NOTA_MT')\n",
    "fig2.delaxes(axes2[2,1])"
   ]
  },
  {
   "cell_type": "markdown",
   "metadata": {},
   "source": [
    "Nota-se uma leve vantagem da população branca nas provas objetivas, e expressiva vantagem na prova de redação. O único grupo social que mais se aproxima da nota média da população branca são os participantes autodeclarados amarelos. Além disso, destaca-se a nota média da população indígena, bastante inferior aos outros grupos em todas as provas aplicadas."
   ]
  },
  {
   "cell_type": "code",
   "execution_count": 41,
   "metadata": {},
   "outputs": [
    {
     "data": {
      "image/png": "[encoded data removed]",
      "text/plain": [
       "<Figure size 432x288 with 1 Axes>"
      ]
     },
     "metadata": {
      "needs_background": "light"
     },
     "output_type": "display_data"
    }
   ],
   "source": [
    "sns.boxplot(x = df_selecionada_sem_nulos['Q006'], y = df_selecionada_sem_nulos['NU_NOTA_REDACAO'], order = dic_renda_media)\n",
    "plt.xlabel(\"Faixa de Renda Mensal\")\n",
    "plt.ylabel(\"Nota de Redação\")\n",
    "plt.show()"
   ]
  },
  {
   "cell_type": "markdown",
   "metadata": {},
   "source": [
    "Observando o gráfico da nota de redação pela renda média do participante, observa-se praticamente uma relação linear. Ou seja, quanto maior a renda, maior a nota obtida."
   ]
  }
 ],
 "metadata": {
  "kernelspec": {
   "display_name": "Python 3",
   "language": "python",
   "name": "python3"
  },
  "language_info": {
   "codemirror_mode": {
    "name": "ipython",
    "version": 3
   },
   "file_extension": ".py",
   "mimetype": "text/x-python",
   "name": "python",
   "nbconvert_exporter": "python",
   "pygments_lexer": "ipython3",
   "version": "3.8.5"
  }
 },
 "nbformat": 4,
 "nbformat_minor": 4
}
